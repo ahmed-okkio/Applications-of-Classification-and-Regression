{
 "cells": [
  {
   "cell_type": "markdown",
   "metadata": {},
   "source": [
    "#**Imports**"
   ]
  },
  {
   "cell_type": "code",
   "execution_count": 1,
   "metadata": {},
   "outputs": [],
   "source": [
    "import pandas as pd\n",
    "import matplotlib.pyplot as plt\n",
    "import pickle\n",
    "import numpy as np\n",
    "\n",
    "\n",
    "from sklearn.linear_model import Lasso, LassoCV\n",
    "from sklearn.model_selection import GridSearchCV\n",
    "from sklearn.metrics import r2_score, mean_squared_error\n",
    "from sklearn.model_selection import cross_val_score\n",
    "from sklearn.model_selection import RepeatedKFold"
   ]
  },
  {
   "cell_type": "markdown",
   "metadata": {},
   "source": [
    "#**Dataset**"
   ]
  },
  {
   "cell_type": "code",
   "execution_count": 2,
   "metadata": {},
   "outputs": [],
   "source": [
    "df_train = pd.read_csv(\"Dataset/housing_coursework_train.csv\", encoding=\"ISO-8859-1\")\n",
    "df_test = pd.read_csv(\"Dataset/housing_coursework_test.csv\", encoding=\"ISO-8859-1\")\n"
   ]
  },
  {
   "cell_type": "code",
   "execution_count": 3,
   "metadata": {},
   "outputs": [
    {
     "data": {
      "text/html": [
       "<div>\n",
       "<style scoped>\n",
       "    .dataframe tbody tr th:only-of-type {\n",
       "        vertical-align: middle;\n",
       "    }\n",
       "\n",
       "    .dataframe tbody tr th {\n",
       "        vertical-align: top;\n",
       "    }\n",
       "\n",
       "    .dataframe thead th {\n",
       "        text-align: right;\n",
       "    }\n",
       "</style>\n",
       "<table border=\"1\" class=\"dataframe\">\n",
       "  <thead>\n",
       "    <tr style=\"text-align: right;\">\n",
       "      <th></th>\n",
       "      <th>No.</th>\n",
       "      <th>longitude</th>\n",
       "      <th>latitude</th>\n",
       "      <th>housing_median_age</th>\n",
       "      <th>total_rooms</th>\n",
       "      <th>total_bedrooms</th>\n",
       "      <th>population</th>\n",
       "      <th>households</th>\n",
       "      <th>median_income</th>\n",
       "      <th>median_house_value</th>\n",
       "      <th>ocean_proximity</th>\n",
       "    </tr>\n",
       "  </thead>\n",
       "  <tbody>\n",
       "    <tr>\n",
       "      <th>0</th>\n",
       "      <td>1</td>\n",
       "      <td>-122.21</td>\n",
       "      <td>37.83</td>\n",
       "      <td>34</td>\n",
       "      <td>5065</td>\n",
       "      <td>788.0</td>\n",
       "      <td>1627</td>\n",
       "      <td>766</td>\n",
       "      <td>6.8976</td>\n",
       "      <td>333300</td>\n",
       "      <td>NEAR BAY</td>\n",
       "    </tr>\n",
       "    <tr>\n",
       "      <th>1</th>\n",
       "      <td>2</td>\n",
       "      <td>-122.22</td>\n",
       "      <td>37.77</td>\n",
       "      <td>52</td>\n",
       "      <td>391</td>\n",
       "      <td>128.0</td>\n",
       "      <td>520</td>\n",
       "      <td>138</td>\n",
       "      <td>1.6471</td>\n",
       "      <td>95000</td>\n",
       "      <td>NEAR BAY</td>\n",
       "    </tr>\n",
       "    <tr>\n",
       "      <th>2</th>\n",
       "      <td>3</td>\n",
       "      <td>-122.23</td>\n",
       "      <td>37.79</td>\n",
       "      <td>30</td>\n",
       "      <td>610</td>\n",
       "      <td>145.0</td>\n",
       "      <td>425</td>\n",
       "      <td>140</td>\n",
       "      <td>1.6198</td>\n",
       "      <td>122700</td>\n",
       "      <td>NEAR BAY</td>\n",
       "    </tr>\n",
       "    <tr>\n",
       "      <th>3</th>\n",
       "      <td>4</td>\n",
       "      <td>-122.20</td>\n",
       "      <td>37.78</td>\n",
       "      <td>52</td>\n",
       "      <td>2300</td>\n",
       "      <td>443.0</td>\n",
       "      <td>1225</td>\n",
       "      <td>423</td>\n",
       "      <td>3.5398</td>\n",
       "      <td>158400</td>\n",
       "      <td>NEAR BAY</td>\n",
       "    </tr>\n",
       "    <tr>\n",
       "      <th>4</th>\n",
       "      <td>5</td>\n",
       "      <td>-122.19</td>\n",
       "      <td>37.79</td>\n",
       "      <td>50</td>\n",
       "      <td>954</td>\n",
       "      <td>217.0</td>\n",
       "      <td>546</td>\n",
       "      <td>201</td>\n",
       "      <td>2.6667</td>\n",
       "      <td>172800</td>\n",
       "      <td>NEAR BAY</td>\n",
       "    </tr>\n",
       "    <tr>\n",
       "      <th>5</th>\n",
       "      <td>6</td>\n",
       "      <td>-122.19</td>\n",
       "      <td>37.76</td>\n",
       "      <td>26</td>\n",
       "      <td>1293</td>\n",
       "      <td>297.0</td>\n",
       "      <td>984</td>\n",
       "      <td>303</td>\n",
       "      <td>1.9479</td>\n",
       "      <td>85800</td>\n",
       "      <td>NEAR BAY</td>\n",
       "    </tr>\n",
       "    <tr>\n",
       "      <th>6</th>\n",
       "      <td>7</td>\n",
       "      <td>-122.17</td>\n",
       "      <td>37.74</td>\n",
       "      <td>43</td>\n",
       "      <td>818</td>\n",
       "      <td>193.0</td>\n",
       "      <td>494</td>\n",
       "      <td>179</td>\n",
       "      <td>2.4776</td>\n",
       "      <td>101600</td>\n",
       "      <td>NEAR BAY</td>\n",
       "    </tr>\n",
       "    <tr>\n",
       "      <th>7</th>\n",
       "      <td>8</td>\n",
       "      <td>-122.18</td>\n",
       "      <td>37.75</td>\n",
       "      <td>46</td>\n",
       "      <td>941</td>\n",
       "      <td>218.0</td>\n",
       "      <td>621</td>\n",
       "      <td>195</td>\n",
       "      <td>1.3250</td>\n",
       "      <td>87100</td>\n",
       "      <td>NEAR BAY</td>\n",
       "    </tr>\n",
       "    <tr>\n",
       "      <th>8</th>\n",
       "      <td>9</td>\n",
       "      <td>-122.16</td>\n",
       "      <td>37.75</td>\n",
       "      <td>38</td>\n",
       "      <td>2457</td>\n",
       "      <td>624.0</td>\n",
       "      <td>1516</td>\n",
       "      <td>482</td>\n",
       "      <td>1.5625</td>\n",
       "      <td>91700</td>\n",
       "      <td>NEAR BAY</td>\n",
       "    </tr>\n",
       "    <tr>\n",
       "      <th>9</th>\n",
       "      <td>10</td>\n",
       "      <td>-122.14</td>\n",
       "      <td>37.75</td>\n",
       "      <td>33</td>\n",
       "      <td>1334</td>\n",
       "      <td>200.0</td>\n",
       "      <td>579</td>\n",
       "      <td>202</td>\n",
       "      <td>6.8323</td>\n",
       "      <td>255900</td>\n",
       "      <td>NEAR BAY</td>\n",
       "    </tr>\n",
       "  </tbody>\n",
       "</table>\n",
       "</div>"
      ],
      "text/plain": [
       "   No.  longitude  latitude  housing_median_age  total_rooms  total_bedrooms  \\\n",
       "0    1    -122.21     37.83                  34         5065           788.0   \n",
       "1    2    -122.22     37.77                  52          391           128.0   \n",
       "2    3    -122.23     37.79                  30          610           145.0   \n",
       "3    4    -122.20     37.78                  52         2300           443.0   \n",
       "4    5    -122.19     37.79                  50          954           217.0   \n",
       "5    6    -122.19     37.76                  26         1293           297.0   \n",
       "6    7    -122.17     37.74                  43          818           193.0   \n",
       "7    8    -122.18     37.75                  46          941           218.0   \n",
       "8    9    -122.16     37.75                  38         2457           624.0   \n",
       "9   10    -122.14     37.75                  33         1334           200.0   \n",
       "\n",
       "   population  households  median_income  median_house_value ocean_proximity  \n",
       "0        1627         766         6.8976              333300        NEAR BAY  \n",
       "1         520         138         1.6471               95000        NEAR BAY  \n",
       "2         425         140         1.6198              122700        NEAR BAY  \n",
       "3        1225         423         3.5398              158400        NEAR BAY  \n",
       "4         546         201         2.6667              172800        NEAR BAY  \n",
       "5         984         303         1.9479               85800        NEAR BAY  \n",
       "6         494         179         2.4776              101600        NEAR BAY  \n",
       "7         621         195         1.3250               87100        NEAR BAY  \n",
       "8        1516         482         1.5625               91700        NEAR BAY  \n",
       "9         579         202         6.8323              255900        NEAR BAY  "
      ]
     },
     "execution_count": 3,
     "metadata": {},
     "output_type": "execute_result"
    }
   ],
   "source": [
    "df_train.head(10)"
   ]
  },
  {
   "cell_type": "code",
   "execution_count": 4,
   "metadata": {},
   "outputs": [],
   "source": [
    "def scatter_plot(feature, target):\n",
    "    plt.figure(figsize=(8, 4))\n",
    "    plt.scatter(\n",
    "        df_train[feature],\n",
    "        df_train[target],\n",
    "        c='black'\n",
    "    )\n",
    "    plt.xlabel(feature)\n",
    "    plt.ylabel(target)\n",
    "    plt.show()"
   ]
  },
  {
   "cell_type": "markdown",
   "metadata": {},
   "source": [
    "#**Preprocessing**"
   ]
  },
  {
   "cell_type": "code",
   "execution_count": 5,
   "metadata": {},
   "outputs": [
    {
     "name": "stdout",
     "output_type": "stream",
     "text": [
      "Trainin set: \n",
      "      No.  longitude  latitude  housing_median_age  total_rooms  \\\n",
      "72    73    -122.08     37.88                  26         2947   \n",
      "168  169    -118.28     34.25                  29         2559   \n",
      "236  237    -118.38     34.05                  49          702   \n",
      "548  549    -117.87     33.83                  27         2287   \n",
      "621  622    -116.21     33.75                  22          894   \n",
      "740  741    -117.02     32.66                  19          771   \n",
      "786  787    -122.45     37.77                  52         2602   \n",
      "792  793    -122.50     37.75                  45         1620   \n",
      "\n",
      "     total_bedrooms  population  households  median_income  \\\n",
      "72              NaN         825         626         2.9330   \n",
      "168             NaN        1886         769         2.6036   \n",
      "236             NaN         458         187         4.8958   \n",
      "548             NaN        1140         351         5.6163   \n",
      "621             NaN         830         202         3.0673   \n",
      "740             NaN         376         108         6.6272   \n",
      "786             NaN        1330         647         3.5435   \n",
      "792             NaN         941         328         4.3859   \n",
      "\n",
      "     median_house_value ocean_proximity  \n",
      "72                85000        NEAR BAY  \n",
      "168              162100       <1H OCEAN  \n",
      "236              333600       <1H OCEAN  \n",
      "548              231000       <1H OCEAN  \n",
      "621               68200          INLAND  \n",
      "740              273600      NEAR OCEAN  \n",
      "786              278600        NEAR BAY  \n",
      "792              270200      NEAR OCEAN  \n",
      "Test set: \n",
      "     No.  longitude  latitude  housing_median_age  total_rooms  total_bedrooms  \\\n",
      "30  831    -122.39     37.59                  32         4497             NaN   \n",
      "\n",
      "    population  households  median_income  median_house_value ocean_proximity  \n",
      "30        1846         715         6.1323              500001      NEAR OCEAN  \n"
     ]
    }
   ],
   "source": [
    "#Detecting NaN vaues\n",
    "print(\"Trainin set: \\n\",df_train.loc[df_train.isnull().any(axis=1)])\n",
    "print(\"Test set: \\n\",df_test.loc[df_test.isnull().any(axis=1)])"
   ]
  },
  {
   "cell_type": "code",
   "execution_count": 6,
   "metadata": {},
   "outputs": [
    {
     "name": "stdout",
     "output_type": "stream",
     "text": [
      "564.3939393939394\n"
     ]
    }
   ],
   "source": [
    "#Filling Nan total_bedrooms data points with the average total_bedrooms to dampen their effect.\n",
    "# average_total_bedrooms = df_train['total_bedrooms'].mean()\n",
    "# df_train.loc[df_train['total_bedrooms'].isnull(),'total_bedrooms'] = average_total_bedrooms\n",
    "\n",
    "# average_total_bedrooms = df_test['total_bedrooms'].mean()\n",
    "# df_test.loc[df_test['total_bedrooms'].isnull(),'total_bedrooms'] = average_total_bedrooms\n",
    "\n",
    "df_train['Sex']=df_train['Sex'].apply(lambda x: 1 if x=='male' else 0)\n"
   ]
  },
  {
   "cell_type": "code",
   "execution_count": 553,
   "metadata": {},
   "outputs": [
    {
     "data": {
      "text/html": [
       "<div>\n",
       "<style scoped>\n",
       "    .dataframe tbody tr th:only-of-type {\n",
       "        vertical-align: middle;\n",
       "    }\n",
       "\n",
       "    .dataframe tbody tr th {\n",
       "        vertical-align: top;\n",
       "    }\n",
       "\n",
       "    .dataframe thead th {\n",
       "        text-align: right;\n",
       "    }\n",
       "</style>\n",
       "<table border=\"1\" class=\"dataframe\">\n",
       "  <thead>\n",
       "    <tr style=\"text-align: right;\">\n",
       "      <th></th>\n",
       "      <th>No.</th>\n",
       "      <th>longitude</th>\n",
       "      <th>latitude</th>\n",
       "      <th>housing_median_age</th>\n",
       "      <th>total_rooms</th>\n",
       "      <th>total_bedrooms</th>\n",
       "      <th>population</th>\n",
       "      <th>households</th>\n",
       "      <th>median_income</th>\n",
       "      <th>median_house_value</th>\n",
       "      <th>ocean_proximity</th>\n",
       "    </tr>\n",
       "  </thead>\n",
       "  <tbody>\n",
       "    <tr>\n",
       "      <th>0</th>\n",
       "      <td>819</td>\n",
       "      <td>-121.17</td>\n",
       "      <td>37.82</td>\n",
       "      <td>35</td>\n",
       "      <td>2506</td>\n",
       "      <td>406.0</td>\n",
       "      <td>1316</td>\n",
       "      <td>398</td>\n",
       "      <td>3.8472</td>\n",
       "      <td>197600</td>\n",
       "      <td>INLAND</td>\n",
       "    </tr>\n",
       "    <tr>\n",
       "      <th>1</th>\n",
       "      <td>935</td>\n",
       "      <td>-122.68</td>\n",
       "      <td>38.36</td>\n",
       "      <td>8</td>\n",
       "      <td>7520</td>\n",
       "      <td>1336.0</td>\n",
       "      <td>3833</td>\n",
       "      <td>1287</td>\n",
       "      <td>4.3278</td>\n",
       "      <td>184100</td>\n",
       "      <td>&lt;1H OCEAN</td>\n",
       "    </tr>\n",
       "    <tr>\n",
       "      <th>2</th>\n",
       "      <td>824</td>\n",
       "      <td>-120.70</td>\n",
       "      <td>35.28</td>\n",
       "      <td>14</td>\n",
       "      <td>3768</td>\n",
       "      <td>682.0</td>\n",
       "      <td>1884</td>\n",
       "      <td>664</td>\n",
       "      <td>4.6071</td>\n",
       "      <td>239900</td>\n",
       "      <td>NEAR OCEAN</td>\n",
       "    </tr>\n",
       "    <tr>\n",
       "      <th>3</th>\n",
       "      <td>978</td>\n",
       "      <td>-119.40</td>\n",
       "      <td>36.55</td>\n",
       "      <td>19</td>\n",
       "      <td>3000</td>\n",
       "      <td>628.0</td>\n",
       "      <td>2202</td>\n",
       "      <td>590</td>\n",
       "      <td>2.5141</td>\n",
       "      <td>67400</td>\n",
       "      <td>INLAND</td>\n",
       "    </tr>\n",
       "    <tr>\n",
       "      <th>4</th>\n",
       "      <td>959</td>\n",
       "      <td>-120.98</td>\n",
       "      <td>37.68</td>\n",
       "      <td>27</td>\n",
       "      <td>4006</td>\n",
       "      <td>762.0</td>\n",
       "      <td>1806</td>\n",
       "      <td>718</td>\n",
       "      <td>3.1848</td>\n",
       "      <td>112800</td>\n",
       "      <td>INLAND</td>\n",
       "    </tr>\n",
       "    <tr>\n",
       "      <th>5</th>\n",
       "      <td>816</td>\n",
       "      <td>-121.12</td>\n",
       "      <td>37.73</td>\n",
       "      <td>35</td>\n",
       "      <td>1107</td>\n",
       "      <td>227.0</td>\n",
       "      <td>573</td>\n",
       "      <td>210</td>\n",
       "      <td>2.3924</td>\n",
       "      <td>102200</td>\n",
       "      <td>INLAND</td>\n",
       "    </tr>\n",
       "    <tr>\n",
       "      <th>6</th>\n",
       "      <td>910</td>\n",
       "      <td>-122.00</td>\n",
       "      <td>36.97</td>\n",
       "      <td>30</td>\n",
       "      <td>1029</td>\n",
       "      <td>242.0</td>\n",
       "      <td>753</td>\n",
       "      <td>249</td>\n",
       "      <td>3.1205</td>\n",
       "      <td>240500</td>\n",
       "      <td>NEAR OCEAN</td>\n",
       "    </tr>\n",
       "    <tr>\n",
       "      <th>7</th>\n",
       "      <td>885</td>\n",
       "      <td>-121.99</td>\n",
       "      <td>37.27</td>\n",
       "      <td>21</td>\n",
       "      <td>1214</td>\n",
       "      <td>192.0</td>\n",
       "      <td>500</td>\n",
       "      <td>185</td>\n",
       "      <td>7.5980</td>\n",
       "      <td>347800</td>\n",
       "      <td>&lt;1H OCEAN</td>\n",
       "    </tr>\n",
       "    <tr>\n",
       "      <th>8</th>\n",
       "      <td>952</td>\n",
       "      <td>-120.86</td>\n",
       "      <td>37.77</td>\n",
       "      <td>38</td>\n",
       "      <td>1545</td>\n",
       "      <td>279.0</td>\n",
       "      <td>662</td>\n",
       "      <td>266</td>\n",
       "      <td>3.8250</td>\n",
       "      <td>96400</td>\n",
       "      <td>INLAND</td>\n",
       "    </tr>\n",
       "    <tr>\n",
       "      <th>9</th>\n",
       "      <td>955</td>\n",
       "      <td>-121.04</td>\n",
       "      <td>37.67</td>\n",
       "      <td>16</td>\n",
       "      <td>19</td>\n",
       "      <td>19.0</td>\n",
       "      <td>166</td>\n",
       "      <td>9</td>\n",
       "      <td>0.5360</td>\n",
       "      <td>162500</td>\n",
       "      <td>INLAND</td>\n",
       "    </tr>\n",
       "  </tbody>\n",
       "</table>\n",
       "</div>"
      ],
      "text/plain": [
       "   No.  longitude  latitude  housing_median_age  total_rooms  total_bedrooms  \\\n",
       "0  819    -121.17     37.82                  35         2506           406.0   \n",
       "1  935    -122.68     38.36                   8         7520          1336.0   \n",
       "2  824    -120.70     35.28                  14         3768           682.0   \n",
       "3  978    -119.40     36.55                  19         3000           628.0   \n",
       "4  959    -120.98     37.68                  27         4006           762.0   \n",
       "5  816    -121.12     37.73                  35         1107           227.0   \n",
       "6  910    -122.00     36.97                  30         1029           242.0   \n",
       "7  885    -121.99     37.27                  21         1214           192.0   \n",
       "8  952    -120.86     37.77                  38         1545           279.0   \n",
       "9  955    -121.04     37.67                  16           19            19.0   \n",
       "\n",
       "   population  households  median_income  median_house_value ocean_proximity  \n",
       "0        1316         398         3.8472              197600          INLAND  \n",
       "1        3833        1287         4.3278              184100       <1H OCEAN  \n",
       "2        1884         664         4.6071              239900      NEAR OCEAN  \n",
       "3        2202         590         2.5141               67400          INLAND  \n",
       "4        1806         718         3.1848              112800          INLAND  \n",
       "5         573         210         2.3924              102200          INLAND  \n",
       "6         753         249         3.1205              240500      NEAR OCEAN  \n",
       "7         500         185         7.5980              347800       <1H OCEAN  \n",
       "8         662         266         3.8250               96400          INLAND  \n",
       "9         166           9         0.5360              162500          INLAND  "
      ]
     },
     "execution_count": 553,
     "metadata": {},
     "output_type": "execute_result"
    }
   ],
   "source": [
    "#Shuffle dataset\n",
    "df_train = df_train.sample(frac=1).reset_index(drop=True)\n",
    "df_train.head(10)\n",
    "\n",
    "df_test = df_test.sample(frac=1).reset_index(drop=True)\n",
    "df_test.head(10)\n"
   ]
  },
  {
   "cell_type": "code",
   "execution_count": 554,
   "metadata": {},
   "outputs": [
    {
     "data": {
      "text/html": [
       "<div>\n",
       "<style scoped>\n",
       "    .dataframe tbody tr th:only-of-type {\n",
       "        vertical-align: middle;\n",
       "    }\n",
       "\n",
       "    .dataframe tbody tr th {\n",
       "        vertical-align: top;\n",
       "    }\n",
       "\n",
       "    .dataframe thead th {\n",
       "        text-align: right;\n",
       "    }\n",
       "</style>\n",
       "<table border=\"1\" class=\"dataframe\">\n",
       "  <thead>\n",
       "    <tr style=\"text-align: right;\">\n",
       "      <th></th>\n",
       "      <th>No.</th>\n",
       "      <th>longitude</th>\n",
       "      <th>latitude</th>\n",
       "      <th>housing_median_age</th>\n",
       "      <th>total_rooms</th>\n",
       "      <th>total_bedrooms</th>\n",
       "      <th>population</th>\n",
       "      <th>households</th>\n",
       "      <th>median_income</th>\n",
       "      <th>median_house_value</th>\n",
       "      <th>ocean_proximity</th>\n",
       "    </tr>\n",
       "  </thead>\n",
       "  <tbody>\n",
       "    <tr>\n",
       "      <th>0</th>\n",
       "      <td>36</td>\n",
       "      <td>-122.05</td>\n",
       "      <td>37.57</td>\n",
       "      <td>7</td>\n",
       "      <td>10648</td>\n",
       "      <td>1818.0</td>\n",
       "      <td>6075</td>\n",
       "      <td>1797</td>\n",
       "      <td>6.1047</td>\n",
       "      <td>278200</td>\n",
       "      <td>3</td>\n",
       "    </tr>\n",
       "    <tr>\n",
       "      <th>1</th>\n",
       "      <td>411</td>\n",
       "      <td>-118.35</td>\n",
       "      <td>33.91</td>\n",
       "      <td>19</td>\n",
       "      <td>1949</td>\n",
       "      <td>559.0</td>\n",
       "      <td>1282</td>\n",
       "      <td>498</td>\n",
       "      <td>2.7813</td>\n",
       "      <td>231300</td>\n",
       "      <td>1</td>\n",
       "    </tr>\n",
       "    <tr>\n",
       "      <th>2</th>\n",
       "      <td>278</td>\n",
       "      <td>-118.30</td>\n",
       "      <td>33.86</td>\n",
       "      <td>35</td>\n",
       "      <td>2016</td>\n",
       "      <td>365.0</td>\n",
       "      <td>1083</td>\n",
       "      <td>369</td>\n",
       "      <td>5.1727</td>\n",
       "      <td>230200</td>\n",
       "      <td>1</td>\n",
       "    </tr>\n",
       "    <tr>\n",
       "      <th>3</th>\n",
       "      <td>637</td>\n",
       "      <td>-121.42</td>\n",
       "      <td>38.64</td>\n",
       "      <td>44</td>\n",
       "      <td>1728</td>\n",
       "      <td>367.0</td>\n",
       "      <td>1042</td>\n",
       "      <td>349</td>\n",
       "      <td>1.6033</td>\n",
       "      <td>58500</td>\n",
       "      <td>0</td>\n",
       "    </tr>\n",
       "    <tr>\n",
       "      <th>4</th>\n",
       "      <td>543</td>\n",
       "      <td>-117.79</td>\n",
       "      <td>33.75</td>\n",
       "      <td>26</td>\n",
       "      <td>2893</td>\n",
       "      <td>345.0</td>\n",
       "      <td>983</td>\n",
       "      <td>326</td>\n",
       "      <td>13.4660</td>\n",
       "      <td>500001</td>\n",
       "      <td>1</td>\n",
       "    </tr>\n",
       "    <tr>\n",
       "      <th>5</th>\n",
       "      <td>281</td>\n",
       "      <td>-118.28</td>\n",
       "      <td>33.75</td>\n",
       "      <td>18</td>\n",
       "      <td>393</td>\n",
       "      <td>189.0</td>\n",
       "      <td>429</td>\n",
       "      <td>188</td>\n",
       "      <td>1.8393</td>\n",
       "      <td>187500</td>\n",
       "      <td>2</td>\n",
       "    </tr>\n",
       "    <tr>\n",
       "      <th>6</th>\n",
       "      <td>738</td>\n",
       "      <td>-117.06</td>\n",
       "      <td>32.61</td>\n",
       "      <td>24</td>\n",
       "      <td>4369</td>\n",
       "      <td>1353.0</td>\n",
       "      <td>3123</td>\n",
       "      <td>1247</td>\n",
       "      <td>2.0571</td>\n",
       "      <td>152300</td>\n",
       "      <td>2</td>\n",
       "    </tr>\n",
       "    <tr>\n",
       "      <th>7</th>\n",
       "      <td>338</td>\n",
       "      <td>-118.07</td>\n",
       "      <td>34.16</td>\n",
       "      <td>35</td>\n",
       "      <td>2459</td>\n",
       "      <td>438.0</td>\n",
       "      <td>970</td>\n",
       "      <td>437</td>\n",
       "      <td>4.2143</td>\n",
       "      <td>369400</td>\n",
       "      <td>0</td>\n",
       "    </tr>\n",
       "    <tr>\n",
       "      <th>8</th>\n",
       "      <td>507</td>\n",
       "      <td>-117.83</td>\n",
       "      <td>33.88</td>\n",
       "      <td>23</td>\n",
       "      <td>2365</td>\n",
       "      <td>355.0</td>\n",
       "      <td>1209</td>\n",
       "      <td>347</td>\n",
       "      <td>6.0132</td>\n",
       "      <td>259400</td>\n",
       "      <td>1</td>\n",
       "    </tr>\n",
       "    <tr>\n",
       "      <th>9</th>\n",
       "      <td>385</td>\n",
       "      <td>-118.07</td>\n",
       "      <td>33.86</td>\n",
       "      <td>17</td>\n",
       "      <td>3666</td>\n",
       "      <td>562.0</td>\n",
       "      <td>2104</td>\n",
       "      <td>579</td>\n",
       "      <td>5.6818</td>\n",
       "      <td>338900</td>\n",
       "      <td>1</td>\n",
       "    </tr>\n",
       "  </tbody>\n",
       "</table>\n",
       "</div>"
      ],
      "text/plain": [
       "   No.  longitude  latitude  housing_median_age  total_rooms  total_bedrooms  \\\n",
       "0   36    -122.05     37.57                   7        10648          1818.0   \n",
       "1  411    -118.35     33.91                  19         1949           559.0   \n",
       "2  278    -118.30     33.86                  35         2016           365.0   \n",
       "3  637    -121.42     38.64                  44         1728           367.0   \n",
       "4  543    -117.79     33.75                  26         2893           345.0   \n",
       "5  281    -118.28     33.75                  18          393           189.0   \n",
       "6  738    -117.06     32.61                  24         4369          1353.0   \n",
       "7  338    -118.07     34.16                  35         2459           438.0   \n",
       "8  507    -117.83     33.88                  23         2365           355.0   \n",
       "9  385    -118.07     33.86                  17         3666           562.0   \n",
       "\n",
       "   population  households  median_income  median_house_value ocean_proximity  \n",
       "0        6075        1797         6.1047              278200               3  \n",
       "1        1282         498         2.7813              231300               1  \n",
       "2        1083         369         5.1727              230200               1  \n",
       "3        1042         349         1.6033               58500               0  \n",
       "4         983         326        13.4660              500001               1  \n",
       "5         429         188         1.8393              187500               2  \n",
       "6        3123        1247         2.0571              152300               2  \n",
       "7         970         437         4.2143              369400               0  \n",
       "8        1209         347         6.0132              259400               1  \n",
       "9        2104         579         5.6818              338900               1  "
      ]
     },
     "execution_count": 554,
     "metadata": {},
     "output_type": "execute_result"
    }
   ],
   "source": [
    "# Integer encoding ocean proximity\n",
    "df_train['ocean_proximity']=np.where(df_train['ocean_proximity'] == 'INLAND', 0,\n",
    "                            np.where(df_train['ocean_proximity'] == '<1H OCEAN', 1,\n",
    "                            np.where(df_train['ocean_proximity'] == 'NEAR OCEAN', 2,\n",
    "                            np.where(df_train['ocean_proximity'] == 'NEAR BAY', 3 , df_train['ocean_proximity']))))\n",
    "\n",
    "df_test['ocean_proximity']=np.where(df_test['ocean_proximity'] == 'INLAND', 0,\n",
    "                            np.where(df_test['ocean_proximity'] == '<1H OCEAN', 1,\n",
    "                            np.where(df_test['ocean_proximity'] == 'NEAR OCEAN', 2,\n",
    "                            np.where(df_test['ocean_proximity'] == 'NEAR BAY', 3 , df_test['ocean_proximity']))))                           \n",
    "df_train.head(10)"
   ]
  },
  {
   "cell_type": "code",
   "execution_count": 555,
   "metadata": {},
   "outputs": [
    {
     "data": {
      "image/png": "[encoded data removed]",
      "text/plain": [
       "<Figure size 800x400 with 1 Axes>"
      ]
     },
     "metadata": {},
     "output_type": "display_data"
    },
    {
     "data": {
      "image/png": "[encoded data removed]",
      "text/plain": [
       "<Figure size 800x400 with 1 Axes>"
      ]
     },
     "metadata": {},
     "output_type": "display_data"
    },
    {
     "data": {
      "image/png": "[encoded data removed]",
      "text/plain": [
       "<Figure size 800x400 with 1 Axes>"
      ]
     },
     "metadata": {},
     "output_type": "display_data"
    },
    {
     "data": {
      "image/png": "[encoded data removed]",
      "text/plain": [
       "<Figure size 800x400 with 1 Axes>"
      ]
     },
     "metadata": {},
     "output_type": "display_data"
    }
   ],
   "source": [
    "#Attempting to identifying linear relations\n",
    "scatter_plot('population', 'median_house_value')\n",
    "scatter_plot('housing_median_age', 'median_house_value')\n",
    "scatter_plot('total_rooms', 'median_house_value')\n",
    "scatter_plot('ocean_proximity', 'median_house_value')\n",
    "\n"
   ]
  },
  {
   "cell_type": "code",
   "execution_count": 556,
   "metadata": {},
   "outputs": [
    {
     "data": {
      "text/html": [
       "<div>\n",
       "<style scoped>\n",
       "    .dataframe tbody tr th:only-of-type {\n",
       "        vertical-align: middle;\n",
       "    }\n",
       "\n",
       "    .dataframe tbody tr th {\n",
       "        vertical-align: top;\n",
       "    }\n",
       "\n",
       "    .dataframe thead th {\n",
       "        text-align: right;\n",
       "    }\n",
       "</style>\n",
       "<table border=\"1\" class=\"dataframe\">\n",
       "  <thead>\n",
       "    <tr style=\"text-align: right;\">\n",
       "      <th></th>\n",
       "      <th>longitude</th>\n",
       "      <th>latitude</th>\n",
       "      <th>housing_median_age</th>\n",
       "      <th>total_rooms</th>\n",
       "      <th>total_bedrooms</th>\n",
       "      <th>population</th>\n",
       "      <th>households</th>\n",
       "      <th>median_income</th>\n",
       "      <th>median_house_value</th>\n",
       "      <th>ocean_proximity</th>\n",
       "    </tr>\n",
       "  </thead>\n",
       "  <tbody>\n",
       "    <tr>\n",
       "      <th>0</th>\n",
       "      <td>-122.05</td>\n",
       "      <td>37.57</td>\n",
       "      <td>7</td>\n",
       "      <td>10648</td>\n",
       "      <td>1818.0</td>\n",
       "      <td>6075</td>\n",
       "      <td>1797</td>\n",
       "      <td>6.1047</td>\n",
       "      <td>278200</td>\n",
       "      <td>3</td>\n",
       "    </tr>\n",
       "    <tr>\n",
       "      <th>1</th>\n",
       "      <td>-118.35</td>\n",
       "      <td>33.91</td>\n",
       "      <td>19</td>\n",
       "      <td>1949</td>\n",
       "      <td>559.0</td>\n",
       "      <td>1282</td>\n",
       "      <td>498</td>\n",
       "      <td>2.7813</td>\n",
       "      <td>231300</td>\n",
       "      <td>1</td>\n",
       "    </tr>\n",
       "    <tr>\n",
       "      <th>2</th>\n",
       "      <td>-118.30</td>\n",
       "      <td>33.86</td>\n",
       "      <td>35</td>\n",
       "      <td>2016</td>\n",
       "      <td>365.0</td>\n",
       "      <td>1083</td>\n",
       "      <td>369</td>\n",
       "      <td>5.1727</td>\n",
       "      <td>230200</td>\n",
       "      <td>1</td>\n",
       "    </tr>\n",
       "    <tr>\n",
       "      <th>3</th>\n",
       "      <td>-121.42</td>\n",
       "      <td>38.64</td>\n",
       "      <td>44</td>\n",
       "      <td>1728</td>\n",
       "      <td>367.0</td>\n",
       "      <td>1042</td>\n",
       "      <td>349</td>\n",
       "      <td>1.6033</td>\n",
       "      <td>58500</td>\n",
       "      <td>0</td>\n",
       "    </tr>\n",
       "    <tr>\n",
       "      <th>4</th>\n",
       "      <td>-117.79</td>\n",
       "      <td>33.75</td>\n",
       "      <td>26</td>\n",
       "      <td>2893</td>\n",
       "      <td>345.0</td>\n",
       "      <td>983</td>\n",
       "      <td>326</td>\n",
       "      <td>13.4660</td>\n",
       "      <td>500001</td>\n",
       "      <td>1</td>\n",
       "    </tr>\n",
       "    <tr>\n",
       "      <th>5</th>\n",
       "      <td>-118.28</td>\n",
       "      <td>33.75</td>\n",
       "      <td>18</td>\n",
       "      <td>393</td>\n",
       "      <td>189.0</td>\n",
       "      <td>429</td>\n",
       "      <td>188</td>\n",
       "      <td>1.8393</td>\n",
       "      <td>187500</td>\n",
       "      <td>2</td>\n",
       "    </tr>\n",
       "    <tr>\n",
       "      <th>6</th>\n",
       "      <td>-117.06</td>\n",
       "      <td>32.61</td>\n",
       "      <td>24</td>\n",
       "      <td>4369</td>\n",
       "      <td>1353.0</td>\n",
       "      <td>3123</td>\n",
       "      <td>1247</td>\n",
       "      <td>2.0571</td>\n",
       "      <td>152300</td>\n",
       "      <td>2</td>\n",
       "    </tr>\n",
       "    <tr>\n",
       "      <th>7</th>\n",
       "      <td>-118.07</td>\n",
       "      <td>34.16</td>\n",
       "      <td>35</td>\n",
       "      <td>2459</td>\n",
       "      <td>438.0</td>\n",
       "      <td>970</td>\n",
       "      <td>437</td>\n",
       "      <td>4.2143</td>\n",
       "      <td>369400</td>\n",
       "      <td>0</td>\n",
       "    </tr>\n",
       "    <tr>\n",
       "      <th>8</th>\n",
       "      <td>-117.83</td>\n",
       "      <td>33.88</td>\n",
       "      <td>23</td>\n",
       "      <td>2365</td>\n",
       "      <td>355.0</td>\n",
       "      <td>1209</td>\n",
       "      <td>347</td>\n",
       "      <td>6.0132</td>\n",
       "      <td>259400</td>\n",
       "      <td>1</td>\n",
       "    </tr>\n",
       "    <tr>\n",
       "      <th>9</th>\n",
       "      <td>-118.07</td>\n",
       "      <td>33.86</td>\n",
       "      <td>17</td>\n",
       "      <td>3666</td>\n",
       "      <td>562.0</td>\n",
       "      <td>2104</td>\n",
       "      <td>579</td>\n",
       "      <td>5.6818</td>\n",
       "      <td>338900</td>\n",
       "      <td>1</td>\n",
       "    </tr>\n",
       "  </tbody>\n",
       "</table>\n",
       "</div>"
      ],
      "text/plain": [
       "   longitude  latitude  housing_median_age  total_rooms  total_bedrooms  \\\n",
       "0    -122.05     37.57                   7        10648          1818.0   \n",
       "1    -118.35     33.91                  19         1949           559.0   \n",
       "2    -118.30     33.86                  35         2016           365.0   \n",
       "3    -121.42     38.64                  44         1728           367.0   \n",
       "4    -117.79     33.75                  26         2893           345.0   \n",
       "5    -118.28     33.75                  18          393           189.0   \n",
       "6    -117.06     32.61                  24         4369          1353.0   \n",
       "7    -118.07     34.16                  35         2459           438.0   \n",
       "8    -117.83     33.88                  23         2365           355.0   \n",
       "9    -118.07     33.86                  17         3666           562.0   \n",
       "\n",
       "   population  households  median_income  median_house_value ocean_proximity  \n",
       "0        6075        1797         6.1047              278200               3  \n",
       "1        1282         498         2.7813              231300               1  \n",
       "2        1083         369         5.1727              230200               1  \n",
       "3        1042         349         1.6033               58500               0  \n",
       "4         983         326        13.4660              500001               1  \n",
       "5         429         188         1.8393              187500               2  \n",
       "6        3123        1247         2.0571              152300               2  \n",
       "7         970         437         4.2143              369400               0  \n",
       "8        1209         347         6.0132              259400               1  \n",
       "9        2104         579         5.6818              338900               1  "
      ]
     },
     "execution_count": 556,
     "metadata": {},
     "output_type": "execute_result"
    }
   ],
   "source": [
    "# Dropping unnecessary columns\n",
    "df_train= df_train.drop(columns=['No.'])\n",
    "\n",
    "\n",
    "df_test = df_test.drop(columns=['No.'])\n",
    "\n",
    "df_train.head(10)"
   ]
  },
  {
   "cell_type": "markdown",
   "metadata": {},
   "source": [
    "#**Train**"
   ]
  },
  {
   "cell_type": "code",
   "execution_count": 557,
   "metadata": {},
   "outputs": [],
   "source": [
    "#Splitting the data\n",
    "X_train= df_train.drop(columns=['median_house_value'])\n",
    "\n",
    "y_train= df_train['median_house_value']\n",
    "\n",
    "X_test= df_test.drop(columns=['median_house_value'])\n",
    "y_test= df_test['median_house_value']"
   ]
  },
  {
   "cell_type": "markdown",
   "metadata": {},
   "source": [
    "#**Tuning**"
   ]
  },
  {
   "cell_type": "code",
   "execution_count": 558,
   "metadata": {},
   "outputs": [
    {
     "name": "stderr",
     "output_type": "stream",
     "text": [
      "c:\\Users\\Ahmed\\Desktop\\ML\\env\\Lib\\site-packages\\sklearn\\model_selection\\_validation.py:686: UserWarning: With alpha=0, this algorithm does not converge well. You are advised to use the LinearRegression estimator\n",
      "  estimator.fit(X_train, y_train, **fit_params)\n",
      "c:\\Users\\Ahmed\\Desktop\\ML\\env\\Lib\\site-packages\\sklearn\\linear_model\\_coordinate_descent.py:631: UserWarning: Coordinate descent with no regularization may lead to unexpected results and is discouraged.\n",
      "  model = cd_fast.enet_coordinate_descent(\n",
      "c:\\Users\\Ahmed\\Desktop\\ML\\env\\Lib\\site-packages\\sklearn\\linear_model\\_coordinate_descent.py:631: ConvergenceWarning: Objective did not converge. You might want to increase the number of iterations, check the scale of the features or consider increasing regularisation. Duality gap: 1.514e+12, tolerance: 7.784e+08 Linear regression models with null weight for the l1 regularization term are more efficiently fitted using one of the solvers implemented in sklearn.linear_model.Ridge/RidgeCV instead.\n",
      "  model = cd_fast.enet_coordinate_descent(\n",
      "c:\\Users\\Ahmed\\Desktop\\ML\\env\\Lib\\site-packages\\sklearn\\model_selection\\_validation.py:686: UserWarning: With alpha=0, this algorithm does not converge well. You are advised to use the LinearRegression estimator\n",
      "  estimator.fit(X_train, y_train, **fit_params)\n",
      "c:\\Users\\Ahmed\\Desktop\\ML\\env\\Lib\\site-packages\\sklearn\\linear_model\\_coordinate_descent.py:631: UserWarning: Coordinate descent with no regularization may lead to unexpected results and is discouraged.\n",
      "  model = cd_fast.enet_coordinate_descent(\n",
      "c:\\Users\\Ahmed\\Desktop\\ML\\env\\Lib\\site-packages\\sklearn\\linear_model\\_coordinate_descent.py:631: ConvergenceWarning: Objective did not converge. You might want to increase the number of iterations, check the scale of the features or consider increasing regularisation. Duality gap: 1.525e+12, tolerance: 7.597e+08 Linear regression models with null weight for the l1 regularization term are more efficiently fitted using one of the solvers implemented in sklearn.linear_model.Ridge/RidgeCV instead.\n",
      "  model = cd_fast.enet_coordinate_descent(\n",
      "c:\\Users\\Ahmed\\Desktop\\ML\\env\\Lib\\site-packages\\sklearn\\model_selection\\_validation.py:686: UserWarning: With alpha=0, this algorithm does not converge well. You are advised to use the LinearRegression estimator\n",
      "  estimator.fit(X_train, y_train, **fit_params)\n",
      "c:\\Users\\Ahmed\\Desktop\\ML\\env\\Lib\\site-packages\\sklearn\\linear_model\\_coordinate_descent.py:631: UserWarning: Coordinate descent with no regularization may lead to unexpected results and is discouraged.\n",
      "  model = cd_fast.enet_coordinate_descent(\n",
      "c:\\Users\\Ahmed\\Desktop\\ML\\env\\Lib\\site-packages\\sklearn\\linear_model\\_coordinate_descent.py:631: ConvergenceWarning: Objective did not converge. You might want to increase the number of iterations, check the scale of the features or consider increasing regularisation. Duality gap: 1.495e+12, tolerance: 7.669e+08 Linear regression models with null weight for the l1 regularization term are more efficiently fitted using one of the solvers implemented in sklearn.linear_model.Ridge/RidgeCV instead.\n",
      "  model = cd_fast.enet_coordinate_descent(\n",
      "c:\\Users\\Ahmed\\Desktop\\ML\\env\\Lib\\site-packages\\sklearn\\model_selection\\_validation.py:686: UserWarning: With alpha=0, this algorithm does not converge well. You are advised to use the LinearRegression estimator\n",
      "  estimator.fit(X_train, y_train, **fit_params)\n",
      "c:\\Users\\Ahmed\\Desktop\\ML\\env\\Lib\\site-packages\\sklearn\\linear_model\\_coordinate_descent.py:631: UserWarning: Coordinate descent with no regularization may lead to unexpected results and is discouraged.\n",
      "  model = cd_fast.enet_coordinate_descent(\n",
      "c:\\Users\\Ahmed\\Desktop\\ML\\env\\Lib\\site-packages\\sklearn\\linear_model\\_coordinate_descent.py:631: ConvergenceWarning: Objective did not converge. You might want to increase the number of iterations, check the scale of the features or consider increasing regularisation. Duality gap: 1.430e+12, tolerance: 7.977e+08 Linear regression models with null weight for the l1 regularization term are more efficiently fitted using one of the solvers implemented in sklearn.linear_model.Ridge/RidgeCV instead.\n",
      "  model = cd_fast.enet_coordinate_descent(\n",
      "c:\\Users\\Ahmed\\Desktop\\ML\\env\\Lib\\site-packages\\sklearn\\model_selection\\_validation.py:686: UserWarning: With alpha=0, this algorithm does not converge well. You are advised to use the LinearRegression estimator\n",
      "  estimator.fit(X_train, y_train, **fit_params)\n",
      "c:\\Users\\Ahmed\\Desktop\\ML\\env\\Lib\\site-packages\\sklearn\\linear_model\\_coordinate_descent.py:631: UserWarning: Coordinate descent with no regularization may lead to unexpected results and is discouraged.\n",
      "  model = cd_fast.enet_coordinate_descent(\n",
      "c:\\Users\\Ahmed\\Desktop\\ML\\env\\Lib\\site-packages\\sklearn\\linear_model\\_coordinate_descent.py:631: ConvergenceWarning: Objective did not converge. You might want to increase the number of iterations, check the scale of the features or consider increasing regularisation. Duality gap: 1.626e+12, tolerance: 7.871e+08 Linear regression models with null weight for the l1 regularization term are more efficiently fitted using one of the solvers implemented in sklearn.linear_model.Ridge/RidgeCV instead.\n",
      "  model = cd_fast.enet_coordinate_descent(\n"
     ]
    },
    {
     "data": {
      "text/html": [
       "<style>#sk-container-id-72 {color: black;background-color: white;}#sk-container-id-72 pre{padding: 0;}#sk-container-id-72 div.sk-toggleable {background-color: white;}#sk-container-id-72 label.sk-toggleable__label {cursor: pointer;display: block;width: 100%;margin-bottom: 0;padding: 0.3em;box-sizing: border-box;text-align: center;}#sk-container-id-72 label.sk-toggleable__label-arrow:before {content: \"▸\";float: left;margin-right: 0.25em;color: #696969;}#sk-container-id-72 label.sk-toggleable__label-arrow:hover:before {color: black;}#sk-container-id-72 div.sk-estimator:hover label.sk-toggleable__label-arrow:before {color: black;}#sk-container-id-72 div.sk-toggleable__content {max-height: 0;max-width: 0;overflow: hidden;text-align: left;background-color: #f0f8ff;}#sk-container-id-72 div.sk-toggleable__content pre {margin: 0.2em;color: black;border-radius: 0.25em;background-color: #f0f8ff;}#sk-container-id-72 input.sk-toggleable__control:checked~div.sk-toggleable__content {max-height: 200px;max-width: 100%;overflow: auto;}#sk-container-id-72 input.sk-toggleable__control:checked~label.sk-toggleable__label-arrow:before {content: \"▾\";}#sk-container-id-72 div.sk-estimator input.sk-toggleable__control:checked~label.sk-toggleable__label {background-color: #d4ebff;}#sk-container-id-72 div.sk-label input.sk-toggleable__control:checked~label.sk-toggleable__label {background-color: #d4ebff;}#sk-container-id-72 input.sk-hidden--visually {border: 0;clip: rect(1px 1px 1px 1px);clip: rect(1px, 1px, 1px, 1px);height: 1px;margin: -1px;overflow: hidden;padding: 0;position: absolute;width: 1px;}#sk-container-id-72 div.sk-estimator {font-family: monospace;background-color: #f0f8ff;border: 1px dotted black;border-radius: 0.25em;box-sizing: border-box;margin-bottom: 0.5em;}#sk-container-id-72 div.sk-estimator:hover {background-color: #d4ebff;}#sk-container-id-72 div.sk-parallel-item::after {content: \"\";width: 100%;border-bottom: 1px solid gray;flex-grow: 1;}#sk-container-id-72 div.sk-label:hover label.sk-toggleable__label {background-color: #d4ebff;}#sk-container-id-72 div.sk-serial::before {content: \"\";position: absolute;border-left: 1px solid gray;box-sizing: border-box;top: 0;bottom: 0;left: 50%;z-index: 0;}#sk-container-id-72 div.sk-serial {display: flex;flex-direction: column;align-items: center;background-color: white;padding-right: 0.2em;padding-left: 0.2em;position: relative;}#sk-container-id-72 div.sk-item {position: relative;z-index: 1;}#sk-container-id-72 div.sk-parallel {display: flex;align-items: stretch;justify-content: center;background-color: white;position: relative;}#sk-container-id-72 div.sk-item::before, #sk-container-id-72 div.sk-parallel-item::before {content: \"\";position: absolute;border-left: 1px solid gray;box-sizing: border-box;top: 0;bottom: 0;left: 50%;z-index: -1;}#sk-container-id-72 div.sk-parallel-item {display: flex;flex-direction: column;z-index: 1;position: relative;background-color: white;}#sk-container-id-72 div.sk-parallel-item:first-child::after {align-self: flex-end;width: 50%;}#sk-container-id-72 div.sk-parallel-item:last-child::after {align-self: flex-start;width: 50%;}#sk-container-id-72 div.sk-parallel-item:only-child::after {width: 0;}#sk-container-id-72 div.sk-dashed-wrapped {border: 1px dashed gray;margin: 0 0.4em 0.5em 0.4em;box-sizing: border-box;padding-bottom: 0.4em;background-color: white;}#sk-container-id-72 div.sk-label label {font-family: monospace;font-weight: bold;display: inline-block;line-height: 1.2em;}#sk-container-id-72 div.sk-label-container {text-align: center;}#sk-container-id-72 div.sk-container {/* jupyter's `normalize.less` sets `[hidden] { display: none; }` but bootstrap.min.css set `[hidden] { display: none !important; }` so we also need the `!important` here to be able to override the default hidden behavior on the sphinx rendered scikit-learn.org. See: https://github.com/scikit-learn/scikit-learn/issues/21755 */display: inline-block !important;position: relative;}#sk-container-id-72 div.sk-text-repr-fallback {display: none;}</style><div id=\"sk-container-id-72\" class=\"sk-top-container\"><div class=\"sk-text-repr-fallback\"><pre>GridSearchCV(cv=5, estimator=Lasso(),\n",
       "             param_grid={&#x27;alpha&#x27;: [0, 0.1, 0.2, 0.3, 0.4, 0.5, 0.6, 0.7, 0.8,\n",
       "                                   0.9, 1]},\n",
       "             scoring=&#x27;r2&#x27;)</pre><b>In a Jupyter environment, please rerun this cell to show the HTML representation or trust the notebook. <br />On GitHub, the HTML representation is unable to render, please try loading this page with nbviewer.org.</b></div><div class=\"sk-container\" hidden><div class=\"sk-item sk-dashed-wrapped\"><div class=\"sk-label-container\"><div class=\"sk-label sk-toggleable\"><input class=\"sk-toggleable__control sk-hidden--visually\" id=\"sk-estimator-id-122\" type=\"checkbox\" ><label for=\"sk-estimator-id-122\" class=\"sk-toggleable__label sk-toggleable__label-arrow\">GridSearchCV</label><div class=\"sk-toggleable__content\"><pre>GridSearchCV(cv=5, estimator=Lasso(),\n",
       "             param_grid={&#x27;alpha&#x27;: [0, 0.1, 0.2, 0.3, 0.4, 0.5, 0.6, 0.7, 0.8,\n",
       "                                   0.9, 1]},\n",
       "             scoring=&#x27;r2&#x27;)</pre></div></div></div><div class=\"sk-parallel\"><div class=\"sk-parallel-item\"><div class=\"sk-item\"><div class=\"sk-label-container\"><div class=\"sk-label sk-toggleable\"><input class=\"sk-toggleable__control sk-hidden--visually\" id=\"sk-estimator-id-123\" type=\"checkbox\" ><label for=\"sk-estimator-id-123\" class=\"sk-toggleable__label sk-toggleable__label-arrow\">estimator: Lasso</label><div class=\"sk-toggleable__content\"><pre>Lasso()</pre></div></div></div><div class=\"sk-serial\"><div class=\"sk-item\"><div class=\"sk-estimator sk-toggleable\"><input class=\"sk-toggleable__control sk-hidden--visually\" id=\"sk-estimator-id-124\" type=\"checkbox\" ><label for=\"sk-estimator-id-124\" class=\"sk-toggleable__label sk-toggleable__label-arrow\">Lasso</label><div class=\"sk-toggleable__content\"><pre>Lasso()</pre></div></div></div></div></div></div></div></div></div></div>"
      ],
      "text/plain": [
       "GridSearchCV(cv=5, estimator=Lasso(),\n",
       "             param_grid={'alpha': [0, 0.1, 0.2, 0.3, 0.4, 0.5, 0.6, 0.7, 0.8,\n",
       "                                   0.9, 1]},\n",
       "             scoring='r2')"
      ]
     },
     "execution_count": 558,
     "metadata": {},
     "output_type": "execute_result"
    }
   ],
   "source": [
    "# Trial and error tuning through GridSearch\n",
    "\n",
    "parameters = {'alpha': [0, 0.1, 0.2, 0.3 ,0.4, 0.5, 0.6, 0.7, 0.8, 0.9, 1]}\n",
    "lasso_grid = GridSearchCV(Lasso(), parameters,refit=True,verbose=0,scoring='r2', cv = 5)\n",
    "lasso_grid.fit(X_train,y_train)"
   ]
  },
  {
   "cell_type": "code",
   "execution_count": 572,
   "metadata": {},
   "outputs": [
    {
     "name": "stderr",
     "output_type": "stream",
     "text": [
      "C:\\Users\\Ahmed\\AppData\\Local\\Temp\\ipykernel_21400\\3721815024.py:19: UserWarning: color is redundantly defined by the 'color' keyword argument and the fmt string \"bo-\" (-> color='b'). The keyword argument will take precedence.\n",
      "  plt.plot(rsq_test, 'bo-', label=\"Training data\", color='blue')\n"
     ]
    },
    {
     "data": {
      "text/plain": [
       "[<matplotlib.lines.Line2D at 0x202ef5eead0>]"
      ]
     },
     "execution_count": 572,
     "metadata": {},
     "output_type": "execute_result"
    },
    {
     "data": {
      "image/png": "[encoded data removed]",
      "text/plain": [
       "<Figure size 800x400 with 1 Axes>"
      ]
     },
     "metadata": {},
     "output_type": "display_data"
    }
   ],
   "source": [
    "min = 0.01\n",
    "max = 0.2\n",
    "num = 10\n",
    "\n",
    "lambdas = np.linspace(min, max, num)\n",
    "\n",
    "rsq_train = np.zeros(num) \n",
    "rsq_test= np.zeros(num) \n",
    "pred_num = X_train.shape[1]\n",
    "coef_a = np.zeros((num, pred_num))\n",
    "\n",
    "for ind, i in enumerate(lambdas):\n",
    "    lasso_mod = Lasso(alpha=i).fit(X_train, y_train)\n",
    "    scores_1 = cross_val_score(lasso_mod, X_train, y_train, cv=10, scoring='r2')\n",
    "    rsq_train[ind] = np.round(lasso_mod.score(X_train, y_train),2)\n",
    "    rsq_test[ind] = np.round(lasso_mod.score(X_test, y_test),4)\n",
    "\n",
    "plt.figure(figsize=(8,4))\n",
    "plt.plot(rsq_test, 'bo-', label=\"Training data\", color='blue')"
   ]
  },
  {
   "cell_type": "code",
   "execution_count": 559,
   "metadata": {},
   "outputs": [
    {
     "data": {
      "text/html": [
       "<style>#sk-container-id-73 {color: black;background-color: white;}#sk-container-id-73 pre{padding: 0;}#sk-container-id-73 div.sk-toggleable {background-color: white;}#sk-container-id-73 label.sk-toggleable__label {cursor: pointer;display: block;width: 100%;margin-bottom: 0;padding: 0.3em;box-sizing: border-box;text-align: center;}#sk-container-id-73 label.sk-toggleable__label-arrow:before {content: \"▸\";float: left;margin-right: 0.25em;color: #696969;}#sk-container-id-73 label.sk-toggleable__label-arrow:hover:before {color: black;}#sk-container-id-73 div.sk-estimator:hover label.sk-toggleable__label-arrow:before {color: black;}#sk-container-id-73 div.sk-toggleable__content {max-height: 0;max-width: 0;overflow: hidden;text-align: left;background-color: #f0f8ff;}#sk-container-id-73 div.sk-toggleable__content pre {margin: 0.2em;color: black;border-radius: 0.25em;background-color: #f0f8ff;}#sk-container-id-73 input.sk-toggleable__control:checked~div.sk-toggleable__content {max-height: 200px;max-width: 100%;overflow: auto;}#sk-container-id-73 input.sk-toggleable__control:checked~label.sk-toggleable__label-arrow:before {content: \"▾\";}#sk-container-id-73 div.sk-estimator input.sk-toggleable__control:checked~label.sk-toggleable__label {background-color: #d4ebff;}#sk-container-id-73 div.sk-label input.sk-toggleable__control:checked~label.sk-toggleable__label {background-color: #d4ebff;}#sk-container-id-73 input.sk-hidden--visually {border: 0;clip: rect(1px 1px 1px 1px);clip: rect(1px, 1px, 1px, 1px);height: 1px;margin: -1px;overflow: hidden;padding: 0;position: absolute;width: 1px;}#sk-container-id-73 div.sk-estimator {font-family: monospace;background-color: #f0f8ff;border: 1px dotted black;border-radius: 0.25em;box-sizing: border-box;margin-bottom: 0.5em;}#sk-container-id-73 div.sk-estimator:hover {background-color: #d4ebff;}#sk-container-id-73 div.sk-parallel-item::after {content: \"\";width: 100%;border-bottom: 1px solid gray;flex-grow: 1;}#sk-container-id-73 div.sk-label:hover label.sk-toggleable__label {background-color: #d4ebff;}#sk-container-id-73 div.sk-serial::before {content: \"\";position: absolute;border-left: 1px solid gray;box-sizing: border-box;top: 0;bottom: 0;left: 50%;z-index: 0;}#sk-container-id-73 div.sk-serial {display: flex;flex-direction: column;align-items: center;background-color: white;padding-right: 0.2em;padding-left: 0.2em;position: relative;}#sk-container-id-73 div.sk-item {position: relative;z-index: 1;}#sk-container-id-73 div.sk-parallel {display: flex;align-items: stretch;justify-content: center;background-color: white;position: relative;}#sk-container-id-73 div.sk-item::before, #sk-container-id-73 div.sk-parallel-item::before {content: \"\";position: absolute;border-left: 1px solid gray;box-sizing: border-box;top: 0;bottom: 0;left: 50%;z-index: -1;}#sk-container-id-73 div.sk-parallel-item {display: flex;flex-direction: column;z-index: 1;position: relative;background-color: white;}#sk-container-id-73 div.sk-parallel-item:first-child::after {align-self: flex-end;width: 50%;}#sk-container-id-73 div.sk-parallel-item:last-child::after {align-self: flex-start;width: 50%;}#sk-container-id-73 div.sk-parallel-item:only-child::after {width: 0;}#sk-container-id-73 div.sk-dashed-wrapped {border: 1px dashed gray;margin: 0 0.4em 0.5em 0.4em;box-sizing: border-box;padding-bottom: 0.4em;background-color: white;}#sk-container-id-73 div.sk-label label {font-family: monospace;font-weight: bold;display: inline-block;line-height: 1.2em;}#sk-container-id-73 div.sk-label-container {text-align: center;}#sk-container-id-73 div.sk-container {/* jupyter's `normalize.less` sets `[hidden] { display: none; }` but bootstrap.min.css set `[hidden] { display: none !important; }` so we also need the `!important` here to be able to override the default hidden behavior on the sphinx rendered scikit-learn.org. See: https://github.com/scikit-learn/scikit-learn/issues/21755 */display: inline-block !important;position: relative;}#sk-container-id-73 div.sk-text-repr-fallback {display: none;}</style><div id=\"sk-container-id-73\" class=\"sk-top-container\"><div class=\"sk-text-repr-fallback\"><pre>LassoCV(cv=5)</pre><b>In a Jupyter environment, please rerun this cell to show the HTML representation or trust the notebook. <br />On GitHub, the HTML representation is unable to render, please try loading this page with nbviewer.org.</b></div><div class=\"sk-container\" hidden><div class=\"sk-item\"><div class=\"sk-estimator sk-toggleable\"><input class=\"sk-toggleable__control sk-hidden--visually\" id=\"sk-estimator-id-125\" type=\"checkbox\" checked><label for=\"sk-estimator-id-125\" class=\"sk-toggleable__label sk-toggleable__label-arrow\">LassoCV</label><div class=\"sk-toggleable__content\"><pre>LassoCV(cv=5)</pre></div></div></div></div></div>"
      ],
      "text/plain": [
       "LassoCV(cv=5)"
      ]
     },
     "execution_count": 559,
     "metadata": {},
     "output_type": "execute_result"
    }
   ],
   "source": [
    "# Lasso with 5 fold cross-validation\n",
    "model = LassoCV(cv=5, max_iter=1000)\n",
    "\n",
    "# Fit model\n",
    "model.fit(X_train, y_train)"
   ]
  },
  {
   "cell_type": "code",
   "execution_count": 560,
   "metadata": {},
   "outputs": [
    {
     "name": "stdout",
     "output_type": "stream",
     "text": [
      "Best parameters: {'alpha': 1}\n",
      "Accuracy: 0.70869918127017\n"
     ]
    }
   ],
   "source": [
    "print(\"Best parameters:\", lasso_grid.best_params_)\n",
    "print(\"Accuracy:\", lasso_grid.score(X_test,y_test))"
   ]
  },
  {
   "cell_type": "code",
   "execution_count": 561,
   "metadata": {},
   "outputs": [
    {
     "name": "stderr",
     "output_type": "stream",
     "text": [
      "No artists with labels found to put in legend.  Note that artists whose label start with an underscore are ignored when legend() is called with no argument.\n"
     ]
    },
    {
     "data": {
      "image/png": "[encoded data removed]",
      "text/plain": [
       "<Figure size 640x480 with 1 Axes>"
      ]
     },
     "metadata": {},
     "output_type": "display_data"
    }
   ],
   "source": [
    "plt.plot(parameters['alpha'], np.round(lasso_grid.cv_results_['mean_test_score'],4))\n",
    "plt.legend()\n",
    "plt.xlabel('Alpha')\n",
    "plt.ylabel('Mean score')\n",
    "plt.show()"
   ]
  },
  {
   "cell_type": "markdown",
   "metadata": {},
   "source": [
    "#**Training with tuned parameters**"
   ]
  },
  {
   "cell_type": "code",
   "execution_count": 562,
   "metadata": {},
   "outputs": [],
   "source": [
    "best_alpha = lasso_grid.best_params_['alpha']\n",
    "tuned_lasso= Lasso(alpha=best_alpha)"
   ]
  },
  {
   "cell_type": "code",
   "execution_count": 563,
   "metadata": {},
   "outputs": [
    {
     "data": {
      "text/html": [
       "<style>#sk-container-id-74 {color: black;background-color: white;}#sk-container-id-74 pre{padding: 0;}#sk-container-id-74 div.sk-toggleable {background-color: white;}#sk-container-id-74 label.sk-toggleable__label {cursor: pointer;display: block;width: 100%;margin-bottom: 0;padding: 0.3em;box-sizing: border-box;text-align: center;}#sk-container-id-74 label.sk-toggleable__label-arrow:before {content: \"▸\";float: left;margin-right: 0.25em;color: #696969;}#sk-container-id-74 label.sk-toggleable__label-arrow:hover:before {color: black;}#sk-container-id-74 div.sk-estimator:hover label.sk-toggleable__label-arrow:before {color: black;}#sk-container-id-74 div.sk-toggleable__content {max-height: 0;max-width: 0;overflow: hidden;text-align: left;background-color: #f0f8ff;}#sk-container-id-74 div.sk-toggleable__content pre {margin: 0.2em;color: black;border-radius: 0.25em;background-color: #f0f8ff;}#sk-container-id-74 input.sk-toggleable__control:checked~div.sk-toggleable__content {max-height: 200px;max-width: 100%;overflow: auto;}#sk-container-id-74 input.sk-toggleable__control:checked~label.sk-toggleable__label-arrow:before {content: \"▾\";}#sk-container-id-74 div.sk-estimator input.sk-toggleable__control:checked~label.sk-toggleable__label {background-color: #d4ebff;}#sk-container-id-74 div.sk-label input.sk-toggleable__control:checked~label.sk-toggleable__label {background-color: #d4ebff;}#sk-container-id-74 input.sk-hidden--visually {border: 0;clip: rect(1px 1px 1px 1px);clip: rect(1px, 1px, 1px, 1px);height: 1px;margin: -1px;overflow: hidden;padding: 0;position: absolute;width: 1px;}#sk-container-id-74 div.sk-estimator {font-family: monospace;background-color: #f0f8ff;border: 1px dotted black;border-radius: 0.25em;box-sizing: border-box;margin-bottom: 0.5em;}#sk-container-id-74 div.sk-estimator:hover {background-color: #d4ebff;}#sk-container-id-74 div.sk-parallel-item::after {content: \"\";width: 100%;border-bottom: 1px solid gray;flex-grow: 1;}#sk-container-id-74 div.sk-label:hover label.sk-toggleable__label {background-color: #d4ebff;}#sk-container-id-74 div.sk-serial::before {content: \"\";position: absolute;border-left: 1px solid gray;box-sizing: border-box;top: 0;bottom: 0;left: 50%;z-index: 0;}#sk-container-id-74 div.sk-serial {display: flex;flex-direction: column;align-items: center;background-color: white;padding-right: 0.2em;padding-left: 0.2em;position: relative;}#sk-container-id-74 div.sk-item {position: relative;z-index: 1;}#sk-container-id-74 div.sk-parallel {display: flex;align-items: stretch;justify-content: center;background-color: white;position: relative;}#sk-container-id-74 div.sk-item::before, #sk-container-id-74 div.sk-parallel-item::before {content: \"\";position: absolute;border-left: 1px solid gray;box-sizing: border-box;top: 0;bottom: 0;left: 50%;z-index: -1;}#sk-container-id-74 div.sk-parallel-item {display: flex;flex-direction: column;z-index: 1;position: relative;background-color: white;}#sk-container-id-74 div.sk-parallel-item:first-child::after {align-self: flex-end;width: 50%;}#sk-container-id-74 div.sk-parallel-item:last-child::after {align-self: flex-start;width: 50%;}#sk-container-id-74 div.sk-parallel-item:only-child::after {width: 0;}#sk-container-id-74 div.sk-dashed-wrapped {border: 1px dashed gray;margin: 0 0.4em 0.5em 0.4em;box-sizing: border-box;padding-bottom: 0.4em;background-color: white;}#sk-container-id-74 div.sk-label label {font-family: monospace;font-weight: bold;display: inline-block;line-height: 1.2em;}#sk-container-id-74 div.sk-label-container {text-align: center;}#sk-container-id-74 div.sk-container {/* jupyter's `normalize.less` sets `[hidden] { display: none; }` but bootstrap.min.css set `[hidden] { display: none !important; }` so we also need the `!important` here to be able to override the default hidden behavior on the sphinx rendered scikit-learn.org. See: https://github.com/scikit-learn/scikit-learn/issues/21755 */display: inline-block !important;position: relative;}#sk-container-id-74 div.sk-text-repr-fallback {display: none;}</style><div id=\"sk-container-id-74\" class=\"sk-top-container\"><div class=\"sk-text-repr-fallback\"><pre>Lasso(alpha=1)</pre><b>In a Jupyter environment, please rerun this cell to show the HTML representation or trust the notebook. <br />On GitHub, the HTML representation is unable to render, please try loading this page with nbviewer.org.</b></div><div class=\"sk-container\" hidden><div class=\"sk-item\"><div class=\"sk-estimator sk-toggleable\"><input class=\"sk-toggleable__control sk-hidden--visually\" id=\"sk-estimator-id-126\" type=\"checkbox\" checked><label for=\"sk-estimator-id-126\" class=\"sk-toggleable__label sk-toggleable__label-arrow\">Lasso</label><div class=\"sk-toggleable__content\"><pre>Lasso(alpha=1)</pre></div></div></div></div></div>"
      ],
      "text/plain": [
       "Lasso(alpha=1)"
      ]
     },
     "execution_count": 563,
     "metadata": {},
     "output_type": "execute_result"
    }
   ],
   "source": [
    "tuned_lasso.fit(X_train,y_train)"
   ]
  },
  {
   "cell_type": "markdown",
   "metadata": {},
   "source": [
    "#**Final Test**"
   ]
  },
  {
   "cell_type": "code",
   "execution_count": 564,
   "metadata": {},
   "outputs": [
    {
     "name": "stdout",
     "output_type": "stream",
     "text": [
      "0.70869918127017\n"
     ]
    }
   ],
   "source": [
    "y_pred_SVM= tuned_lasso.predict(X_test)\n",
    "print(r2_score(y_test, y_pred_SVM))"
   ]
  },
  {
   "cell_type": "markdown",
   "metadata": {},
   "source": [
    "#**Persistence**"
   ]
  },
  {
   "cell_type": "code",
   "execution_count": 565,
   "metadata": {},
   "outputs": [],
   "source": [
    "#Save model to disk\n",
    "filepath = './models/mainmodel.sav'\n",
    "pickle.dump(tuned_lasso, open(filepath, 'wb'))"
   ]
  },
  {
   "cell_type": "code",
   "execution_count": 566,
   "metadata": {},
   "outputs": [],
   "source": [
    "#Load saved model from disk\n",
    "filepath = './models/mainmodel.sav'\n",
    "loaded_model = pickle.load(open(filepath, 'rb'))\n",
    "result = loaded_model.score(X_test, y_test)"
   ]
  },
  {
   "cell_type": "code",
   "execution_count": 567,
   "metadata": {},
   "outputs": [
    {
     "name": "stdout",
     "output_type": "stream",
     "text": [
      "0    197600\n",
      "Name: median_house_value, dtype: int64\n",
      "GridSearch:\n",
      "0.70869918127017\n",
      "[172366.85051863]\n",
      "Cross Validation:\n",
      "0.5342113013478702\n",
      "[199084.77983467]\n"
     ]
    }
   ],
   "source": [
    "print(df_test['median_house_value'].head(1))\n",
    "\n",
    "y_pred_SVM= loaded_model.predict(X_test)\n",
    "print(\"GridSearch:\")\n",
    "print(r2_score(y_test, y_pred_SVM))\n",
    "\n",
    "print(loaded_model.predict(X_test.head(1)))\n",
    "\n",
    "y_pred_SVM= model.predict(X_test)\n",
    "\n",
    "print(\"Cross Validation:\")\n",
    "print(r2_score(y_test, y_pred_SVM))\n",
    "print(model.predict(X_test.head(1)))\n",
    "\n"
   ]
  }
 ],
 "metadata": {
  "kernelspec": {
   "display_name": "Python 3",
   "language": "python",
   "name": "python3"
  },
  "language_info": {
   "codemirror_mode": {
    "name": "ipython",
    "version": 3
   },
   "file_extension": ".py",
   "mimetype": "text/x-python",
   "name": "python",
   "nbconvert_exporter": "python",
   "pygments_lexer": "ipython3",
   "version": "3.11.2"
  },
  "orig_nbformat": 4,
  "vscode": {
   "interpreter": {
    "hash": "4ce5e9eb685f2cbd0e3503ebb85761aaa408303647e20907299c603e3c6f3f27"
   }
  }
 },
 "nbformat": 4,
 "nbformat_minor": 2
}
